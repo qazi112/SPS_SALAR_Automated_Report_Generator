{
 "cells": [
  {
   "cell_type": "code",
   "execution_count": 1,
   "metadata": {},
   "outputs": [],
   "source": [
    "import pandas as pd\n",
    "df = pd.read_csv(\"csvfiles/logs_example.csv\")\n",
    "\n",
    "# Got headers\n",
    "header = df.columns #all headers\n",
    "# Got Servers Unique in np.array\n",
    "servers = df[\"Server\"].unique()\n"
   ]
  },
  {
   "cell_type": "code",
   "execution_count": 25,
   "metadata": {},
   "outputs": [],
   "source": [
    "# Check For a pattern\n",
    "# For A particular server write df.loc[df[\"Server\"] == \n",
    "# \"Name\"].loc[df[\"Notes:\"].str.contains(\"Update|Expanded\")]\n",
    "\n",
    "#Looking for a particular word like update/install\n",
    "df.loc[df[\"Notes:\"].str.contains(\"Update|install\")]\n",
    "\n",
    "# print(type(df.loc[df[\"Server\"] == serversList[0]][\"Notes:\"]))\n",
    "# List of servers\n",
    "serversList = list(servers)\n",
    "\n",
    "df[\"Date\"].min()\n",
    "matching = [\"Security Update for Adobe Flash Player\",\n",
    "            \"Security Update for Microsoft .NET Framework 3.5 on Windows Server 2012 R2\",\n",
    "            \"Security Update for Windows Server 2012 R2\",\n",
    "            \"Windows Malicious Software Removal Tool\",\n",
    "            \"Cylance updated\",\n",
    "            \"Security and Quality Rollup for .NET Framework\",\n",
    "            \"Servicing Stack Update for Windows Server 2012 R2\"\n",
    "           ]\n",
    "matching = [x.lower() for x in matching]\n"
   ]
  },
  {
   "cell_type": "code",
   "execution_count": 40,
   "metadata": {},
   "outputs": [
    {
     "name": "stdout",
     "output_type": "stream",
     "text": [
      "['2020-06 Security Update for Adobe Flash Player for Windows Server 2012 R2...', '2020-08 Security Update for Windows Server 2012 R2 for x64-based Systems...', 'Security Update for Windows Server 2012 R2 (KB3076949)', 'Security Update for Windows Server 2012 R2 (KB3109560)', 'Security Update for Windows Server 2012 R2 (KB3115858)', 'Security Update for Windows Server 2012 R2 (KB3138910)', 'Security Update for Windows Server 2012 R2 (KB3138962)', 'Windows Malicious Software Removal Tool x64 - v5.82 (KB890830)', '2020-08 Security and Quality Rollup for .NET Framework 3.5, 4.5.2, 4.6, 4.6.1,...', '2020-07 Servicing Stack Update for Windows Server 2012 R2 for x64-based S...']\n",
      "['security update for adobe flash player', 'security update for windows server 2012 r2', 'windows malicious software removal tool', 'security and quality rollup for .net framework', 'servicing stack update for windows server 2012 r2']\n",
      "              Server                Date  \\\n",
      "6   TopConFDA3.cloud  8/25/2020 22:25:49   \n",
      "7   TopConFDA3.cloud  8/25/2020 22:25:49   \n",
      "8   TopConFDA3.cloud  8/25/2020 22:25:49   \n",
      "9   TopConFDA3.cloud  8/25/2020 22:25:49   \n",
      "10  TopConFDA3.cloud  8/25/2020 22:25:49   \n",
      "\n",
      "                                               Notes:      Status  \n",
      "6   2020-06 Security Update for Adobe Flash Player...  Successful  \n",
      "7   2020-08 Security and Quality Rollup for .NET F...  Successful  \n",
      "8   2020-08 Security Monthly Quality Rollup for Wi...  Successful  \n",
      "9   2020-08 Security Update for Windows Server 201...  Successful  \n",
      "10  Security Update for Microsoft .NET Framework 3...  Successful  \n"
     ]
    }
   ],
   "source": [
    "# Working for first Server \n",
    "firstServer = serversList[1] #first Server got\n",
    "# Get Minimun / Earliest Date\n",
    "edate = df.loc[df[\"Server\"]== firstServer][\"Date\"].min()\n",
    "edate = edate.split(\" \") #splited to get date only\n",
    "edate = str(edate[0])\n",
    "\n",
    "# # Getting List for (update/install) Words\n",
    "# install = df.loc[df[\"Server\"] == firstServer].loc[df[\"Notes:\"].str.contains(\"Update|install|update|UPDATE\",na=False, case=False)]\n",
    "# # Getting List form of installs/updates\n",
    "# listInstall = list(install[\"Notes:\"])\n",
    "\n",
    "# # Getting List for (Expanded) Words\n",
    "# expan = df.loc[df[\"Server\"] == firstServer].loc[df[\"Notes:\"].str.contains(\"Expanded|expand\",na=False, case=False)]\n",
    "# # Getting List form of expand\n",
    "# listExpand = list(expan[\"Notes:\"])\n",
    "summary = []\n",
    "os_patch = []\n",
    "for bullet in matching:\n",
    "    res = df.loc[df[\"Server\"] == firstServer].loc[df[\"Notes:\"].str.contains(f\"^.*{bullet}.*\",na=False, case=False)==True]\n",
    "    if not res.empty:\n",
    "        \n",
    "        summary.append(bullet)\n",
    "        os_patch.extend(list(res[\"Notes:\"]))\n",
    "    \n",
    "print(os_patch)\n",
    "print(summary)\n",
    "    # res = list(res[\"Notes:\"])\n",
    "#     print(matching)\n",
    "ser = df.loc[df[\"Server\"]== firstServer]\n",
    "print(ser.head())\n",
    "    # print(df.loc[df[\"Server\"]==firstServer])\n",
    "#     print(my)\n",
    "\n",
    "    # myregular_expression = contains(\"^.*bullet.*\") == True\n",
    "    # contains(\"^.*Security Update for Windows Server 2012 R2.*\",na=False, case=False)==True"
   ]
  },
  {
   "cell_type": "code",
   "execution_count": 101,
   "metadata": {},
   "outputs": [],
   "source": [
    "\n",
    "from jinja2 import Environment, FileSystemLoader\n",
    "from weasyprint import HTML\n",
    "\n",
    "env=Environment(loader=FileSystemLoader('.'))\n",
    "template = env.get_template(\"report.html\")\n",
    "template_vars={\n",
    "              'headers':list(serversList),\n",
    "            'date' : edate,\n",
    "            'server': firstServer,\n",
    "            'installs' : listInstall,\n",
    "            'expands' : listExpand,\n",
    "            'image' : \"unnamed.png\"\n",
    "}\n",
    "html_out=template.render(template_vars)\n",
    "\n",
    "pdf_name=f'{serversList[0]}report.pdf'\n",
    "HTML(string=html_out, base_url='.').write_pdf(pdf_name,stylesheets = [\"mystyle.css\",\"bootstrap.css\"])"
   ]
  }
 ],
 "metadata": {
  "kernelspec": {
   "display_name": "Python 3",
   "language": "python",
   "name": "python3"
  },
  "language_info": {
   "codemirror_mode": {
    "name": "ipython",
    "version": 3
   },
   "file_extension": ".py",
   "mimetype": "text/x-python",
   "name": "python",
   "nbconvert_exporter": "python",
   "pygments_lexer": "ipython3",
   "version": "3.6.9"
  }
 },
 "nbformat": 4,
 "nbformat_minor": 4
}
